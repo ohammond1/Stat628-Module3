{
 "cells": [
  {
   "cell_type": "code",
   "execution_count": 3,
   "id": "f2bb102a",
   "metadata": {},
   "outputs": [],
   "source": [
    "import json\n",
    "import numpy as np\n",
    "res = []\n",
    "with open('user.json') as f:\n",
    "    for line in f:\n",
    "        res.append(json.loads(line))"
   ]
  },
  {
   "cell_type": "code",
   "execution_count": 8,
   "id": "6ec7c702",
   "metadata": {},
   "outputs": [],
   "source": [
    "import pandas as pd\n",
    "user = pd.DataFrame(res)"
   ]
  },
  {
   "cell_type": "code",
   "execution_count": 11,
   "id": "eed90d88",
   "metadata": {},
   "outputs": [],
   "source": [
    "res = []\n",
    "with open('review.json') as f:\n",
    "    for line in f:\n",
    "        res.append(json.loads(line))\n",
    "review = pd.DataFrame(res)"
   ]
  },
  {
   "cell_type": "code",
   "execution_count": 17,
   "id": "f6c36d68",
   "metadata": {},
   "outputs": [],
   "source": [
    "elite_users = user[['user_id', 'elite']][user['elite'] != '']"
   ]
  },
  {
   "cell_type": "code",
   "execution_count": 31,
   "id": "caa08de5",
   "metadata": {},
   "outputs": [],
   "source": [
    "elite_users = elite_users.reset_index()[['user_id', 'elite']]"
   ]
  },
  {
   "cell_type": "code",
   "execution_count": 33,
   "id": "6bbba756",
   "metadata": {},
   "outputs": [],
   "source": [
    "elite_users['elite'] = [elite_users['elite'][i].split(',') for i in range(elite_users.shape[0])]"
   ]
  },
  {
   "cell_type": "code",
   "execution_count": 57,
   "id": "70b3961a",
   "metadata": {},
   "outputs": [
    {
     "data": {
      "text/html": [
       "<div>\n",
       "<style scoped>\n",
       "    .dataframe tbody tr th:only-of-type {\n",
       "        vertical-align: middle;\n",
       "    }\n",
       "\n",
       "    .dataframe tbody tr th {\n",
       "        vertical-align: top;\n",
       "    }\n",
       "\n",
       "    .dataframe thead th {\n",
       "        text-align: right;\n",
       "    }\n",
       "</style>\n",
       "<table border=\"1\" class=\"dataframe\">\n",
       "  <thead>\n",
       "    <tr style=\"text-align: right;\">\n",
       "      <th></th>\n",
       "      <th>user_id</th>\n",
       "      <th>elite</th>\n",
       "    </tr>\n",
       "  </thead>\n",
       "  <tbody>\n",
       "    <tr>\n",
       "      <th>0</th>\n",
       "      <td>qVc8ODYU5SZjKXVBgXdI7w</td>\n",
       "      <td>[2007]</td>\n",
       "    </tr>\n",
       "    <tr>\n",
       "      <th>1</th>\n",
       "      <td>j14WgRoU_-2ZE1aw1dXrJg</td>\n",
       "      <td>[2009, 2010, 2011, 2012, 2013, 2014, 2015, 201...</td>\n",
       "    </tr>\n",
       "    <tr>\n",
       "      <th>2</th>\n",
       "      <td>2WnXYQFK0hXEoTxPtV2zvg</td>\n",
       "      <td>[2009, 2010, 2011, 2012, 2013]</td>\n",
       "    </tr>\n",
       "    <tr>\n",
       "      <th>3</th>\n",
       "      <td>SZDeASXq7o05mMNLshsdIA</td>\n",
       "      <td>[2009, 2010, 2011]</td>\n",
       "    </tr>\n",
       "    <tr>\n",
       "      <th>4</th>\n",
       "      <td>q_QQ5kBBwlCcbL1s4NVK3g</td>\n",
       "      <td>[2006, 2007, 2008, 2009, 2010, 2011, 2012, 201...</td>\n",
       "    </tr>\n",
       "  </tbody>\n",
       "</table>\n",
       "</div>"
      ],
      "text/plain": [
       "                  user_id                                              elite\n",
       "0  qVc8ODYU5SZjKXVBgXdI7w                                             [2007]\n",
       "1  j14WgRoU_-2ZE1aw1dXrJg  [2009, 2010, 2011, 2012, 2013, 2014, 2015, 201...\n",
       "2  2WnXYQFK0hXEoTxPtV2zvg                     [2009, 2010, 2011, 2012, 2013]\n",
       "3  SZDeASXq7o05mMNLshsdIA                                 [2009, 2010, 2011]\n",
       "4  q_QQ5kBBwlCcbL1s4NVK3g  [2006, 2007, 2008, 2009, 2010, 2011, 2012, 201..."
      ]
     },
     "execution_count": 57,
     "metadata": {},
     "output_type": "execute_result"
    }
   ],
   "source": [
    "elite_users.head()"
   ]
  },
  {
   "cell_type": "code",
   "execution_count": 52,
   "id": "0ecb51dd",
   "metadata": {},
   "outputs": [],
   "source": [
    "review['date'] = pd.to_datetime(review['date'])"
   ]
  },
  {
   "cell_type": "code",
   "execution_count": 90,
   "id": "7b80c694",
   "metadata": {},
   "outputs": [],
   "source": [
    "review['year'] = [elem.year for elem in review['date']]"
   ]
  },
  {
   "cell_type": "code",
   "execution_count": 92,
   "id": "0fe50182",
   "metadata": {},
   "outputs": [
    {
     "data": {
      "text/html": [
       "<div>\n",
       "<style scoped>\n",
       "    .dataframe tbody tr th:only-of-type {\n",
       "        vertical-align: middle;\n",
       "    }\n",
       "\n",
       "    .dataframe tbody tr th {\n",
       "        vertical-align: top;\n",
       "    }\n",
       "\n",
       "    .dataframe thead th {\n",
       "        text-align: right;\n",
       "    }\n",
       "</style>\n",
       "<table border=\"1\" class=\"dataframe\">\n",
       "  <thead>\n",
       "    <tr style=\"text-align: right;\">\n",
       "      <th></th>\n",
       "      <th>review_id</th>\n",
       "      <th>user_id</th>\n",
       "      <th>business_id</th>\n",
       "      <th>stars</th>\n",
       "      <th>useful</th>\n",
       "      <th>funny</th>\n",
       "      <th>cool</th>\n",
       "      <th>text</th>\n",
       "      <th>date</th>\n",
       "      <th>year</th>\n",
       "    </tr>\n",
       "  </thead>\n",
       "  <tbody>\n",
       "    <tr>\n",
       "      <th>0</th>\n",
       "      <td>KU_O5udG6zpxOg-VcAEodg</td>\n",
       "      <td>mh_-eMZ6K5RLWhZyISBhwA</td>\n",
       "      <td>XQfwVwDr-v0ZS3_CbbE5Xw</td>\n",
       "      <td>3.0</td>\n",
       "      <td>0</td>\n",
       "      <td>0</td>\n",
       "      <td>0</td>\n",
       "      <td>If you decide to eat here, just be aware it is...</td>\n",
       "      <td>2018-07-07 22:09:11</td>\n",
       "      <td>2018</td>\n",
       "    </tr>\n",
       "    <tr>\n",
       "      <th>1</th>\n",
       "      <td>BiTunyQ73aT9WBnpR9DZGw</td>\n",
       "      <td>OyoGAe7OKpv6SyGZT5g77Q</td>\n",
       "      <td>7ATYjTIgM3jUlt4UM3IypQ</td>\n",
       "      <td>5.0</td>\n",
       "      <td>1</td>\n",
       "      <td>0</td>\n",
       "      <td>1</td>\n",
       "      <td>I've taken a lot of spin classes over the year...</td>\n",
       "      <td>2012-01-03 15:28:18</td>\n",
       "      <td>2012</td>\n",
       "    </tr>\n",
       "    <tr>\n",
       "      <th>2</th>\n",
       "      <td>saUsX_uimxRlCVr67Z4Jig</td>\n",
       "      <td>8g_iMtfSiwikVnbP2etR0A</td>\n",
       "      <td>YjUWPpI6HXG530lwP-fb2A</td>\n",
       "      <td>3.0</td>\n",
       "      <td>0</td>\n",
       "      <td>0</td>\n",
       "      <td>0</td>\n",
       "      <td>Family diner. Had the buffet. Eclectic assortm...</td>\n",
       "      <td>2014-02-05 20:30:30</td>\n",
       "      <td>2014</td>\n",
       "    </tr>\n",
       "    <tr>\n",
       "      <th>3</th>\n",
       "      <td>AqPFMleE6RsU23_auESxiA</td>\n",
       "      <td>_7bHUi9Uuf5__HHc_Q8guQ</td>\n",
       "      <td>kxX2SOes4o-D3ZQBkiMRfA</td>\n",
       "      <td>5.0</td>\n",
       "      <td>1</td>\n",
       "      <td>0</td>\n",
       "      <td>1</td>\n",
       "      <td>Wow!  Yummy, different,  delicious.   Our favo...</td>\n",
       "      <td>2015-01-04 00:01:03</td>\n",
       "      <td>2015</td>\n",
       "    </tr>\n",
       "    <tr>\n",
       "      <th>4</th>\n",
       "      <td>Sx8TMOWLNuJBWer-0pcmoA</td>\n",
       "      <td>bcjbaE6dDog4jkNY91ncLQ</td>\n",
       "      <td>e4Vwtrqf-wpJfwesgvdgxQ</td>\n",
       "      <td>4.0</td>\n",
       "      <td>1</td>\n",
       "      <td>0</td>\n",
       "      <td>1</td>\n",
       "      <td>Cute interior and owner (?) gave us tour of up...</td>\n",
       "      <td>2017-01-14 20:54:15</td>\n",
       "      <td>2017</td>\n",
       "    </tr>\n",
       "  </tbody>\n",
       "</table>\n",
       "</div>"
      ],
      "text/plain": [
       "                review_id                 user_id             business_id  \\\n",
       "0  KU_O5udG6zpxOg-VcAEodg  mh_-eMZ6K5RLWhZyISBhwA  XQfwVwDr-v0ZS3_CbbE5Xw   \n",
       "1  BiTunyQ73aT9WBnpR9DZGw  OyoGAe7OKpv6SyGZT5g77Q  7ATYjTIgM3jUlt4UM3IypQ   \n",
       "2  saUsX_uimxRlCVr67Z4Jig  8g_iMtfSiwikVnbP2etR0A  YjUWPpI6HXG530lwP-fb2A   \n",
       "3  AqPFMleE6RsU23_auESxiA  _7bHUi9Uuf5__HHc_Q8guQ  kxX2SOes4o-D3ZQBkiMRfA   \n",
       "4  Sx8TMOWLNuJBWer-0pcmoA  bcjbaE6dDog4jkNY91ncLQ  e4Vwtrqf-wpJfwesgvdgxQ   \n",
       "\n",
       "   stars  useful  funny  cool  \\\n",
       "0    3.0       0      0     0   \n",
       "1    5.0       1      0     1   \n",
       "2    3.0       0      0     0   \n",
       "3    5.0       1      0     1   \n",
       "4    4.0       1      0     1   \n",
       "\n",
       "                                                text                date  year  \n",
       "0  If you decide to eat here, just be aware it is... 2018-07-07 22:09:11  2018  \n",
       "1  I've taken a lot of spin classes over the year... 2012-01-03 15:28:18  2012  \n",
       "2  Family diner. Had the buffet. Eclectic assortm... 2014-02-05 20:30:30  2014  \n",
       "3  Wow!  Yummy, different,  delicious.   Our favo... 2015-01-04 00:01:03  2015  \n",
       "4  Cute interior and owner (?) gave us tour of up... 2017-01-14 20:54:15  2017  "
      ]
     },
     "execution_count": 92,
     "metadata": {},
     "output_type": "execute_result"
    }
   ],
   "source": [
    "review.head()"
   ]
  },
  {
   "cell_type": "code",
   "execution_count": 125,
   "id": "ae9da136",
   "metadata": {},
   "outputs": [
    {
     "name": "stdout",
     "output_type": "stream",
     "text": [
      "3912.899270296097\n"
     ]
    }
   ],
   "source": [
    "import time\n",
    "start = time.time()\n",
    "result = []\n",
    "for i in range(100):\n",
    "    for j in range(len(elite_users['elite'][i])):\n",
    "        uid = elite_users['user_id'][i]\n",
    "        year = int(elite_users['elite'][i][j])\n",
    "        influencer_review = review.loc[np.logical_and(review['user_id']==uid,review['year']==year),]\n",
    "        if not influencer_review.empty:\n",
    "            result.append(influencer_review[['business_id', 'date']])\n",
    "print(time.time()-start)"
   ]
  },
  {
   "cell_type": "code",
   "execution_count": 130,
   "id": "ce6dafee",
   "metadata": {},
   "outputs": [],
   "source": [
    "r = pd.concat(result, axis=0)"
   ]
  },
  {
   "cell_type": "code",
   "execution_count": 139,
   "id": "e64935db",
   "metadata": {},
   "outputs": [],
   "source": [
    "r = r.reset_index()[['business_id', 'date']]"
   ]
  },
  {
   "cell_type": "code",
   "execution_count": 148,
   "id": "217bf951",
   "metadata": {},
   "outputs": [
    {
     "data": {
      "text/html": [
       "<div>\n",
       "<style scoped>\n",
       "    .dataframe tbody tr th:only-of-type {\n",
       "        vertical-align: middle;\n",
       "    }\n",
       "\n",
       "    .dataframe tbody tr th {\n",
       "        vertical-align: top;\n",
       "    }\n",
       "\n",
       "    .dataframe thead th {\n",
       "        text-align: right;\n",
       "    }\n",
       "</style>\n",
       "<table border=\"1\" class=\"dataframe\">\n",
       "  <thead>\n",
       "    <tr style=\"text-align: right;\">\n",
       "      <th></th>\n",
       "      <th>business_id</th>\n",
       "      <th>date</th>\n",
       "    </tr>\n",
       "  </thead>\n",
       "  <tbody>\n",
       "    <tr>\n",
       "      <th>0</th>\n",
       "      <td>ompDR5sUDpoI6gnTldmneQ</td>\n",
       "      <td>2010-10-11 19:24:56</td>\n",
       "    </tr>\n",
       "    <tr>\n",
       "      <th>1</th>\n",
       "      <td>WtVOrfqLXerig9Z7iP-NzA</td>\n",
       "      <td>2010-10-11 19:49:22</td>\n",
       "    </tr>\n",
       "    <tr>\n",
       "      <th>2</th>\n",
       "      <td>DcBLYSvOuWcNReolRVr12A</td>\n",
       "      <td>2010-10-11 17:04:36</td>\n",
       "    </tr>\n",
       "    <tr>\n",
       "      <th>3</th>\n",
       "      <td>z_37EXfWEVMV4telxsbGMw</td>\n",
       "      <td>2010-10-11 19:32:30</td>\n",
       "    </tr>\n",
       "    <tr>\n",
       "      <th>4</th>\n",
       "      <td>ta5Oi3sezvn4H299MbtE8Q</td>\n",
       "      <td>2010-10-11 20:29:02</td>\n",
       "    </tr>\n",
       "  </tbody>\n",
       "</table>\n",
       "</div>"
      ],
      "text/plain": [
       "              business_id                date\n",
       "0  ompDR5sUDpoI6gnTldmneQ 2010-10-11 19:24:56\n",
       "1  WtVOrfqLXerig9Z7iP-NzA 2010-10-11 19:49:22\n",
       "2  DcBLYSvOuWcNReolRVr12A 2010-10-11 17:04:36\n",
       "3  z_37EXfWEVMV4telxsbGMw 2010-10-11 19:32:30\n",
       "4  ta5Oi3sezvn4H299MbtE8Q 2010-10-11 20:29:02"
      ]
     },
     "execution_count": 148,
     "metadata": {},
     "output_type": "execute_result"
    }
   ],
   "source": [
    "r.head()"
   ]
  },
  {
   "cell_type": "code",
   "execution_count": 152,
   "id": "6360fc67",
   "metadata": {},
   "outputs": [
    {
     "data": {
      "text/plain": [
       "(4860, 2)"
      ]
     },
     "execution_count": 152,
     "metadata": {},
     "output_type": "execute_result"
    }
   ],
   "source": [
    "r.shape"
   ]
  },
  {
   "cell_type": "code",
   "execution_count": 206,
   "id": "1758b15a",
   "metadata": {},
   "outputs": [
    {
     "name": "stdout",
     "output_type": "stream",
     "text": [
      "1222.5265669822693\n"
     ]
    }
   ],
   "source": [
    "start = time.time()\n",
    "res = []\n",
    "for i in range(100):\n",
    "    bid = r['business_id'][i]\n",
    "    d = r['date'][i]\n",
    "    before = review['stars'][np.logical_and(review['business_id']==bid,\n",
    "                                            d - review['date'] > pd.to_timedelta(0, unit='second'),\n",
    "                                            d - review['date'] < pd.to_timedelta(30, unit='day'))]\n",
    "    after = review['stars'][np.logical_and(review['business_id']==bid,\n",
    "                                          review['date'] - d > pd.to_timedelta(0, unit='second'),\n",
    "                                          review['date'] - d < pd.to_timedelta(30, unit='day'))]\n",
    "    res.append([np.mean(after) - np.mean(before), len(after) - len(before)])\n",
    "print(time.time() - start)"
   ]
  },
  {
   "cell_type": "code",
   "execution_count": 203,
   "id": "54ce8afe",
   "metadata": {},
   "outputs": [
    {
     "data": {
      "text/plain": [
       "-0.04301457324584908"
      ]
     },
     "execution_count": 203,
     "metadata": {},
     "output_type": "execute_result"
    }
   ],
   "source": [
    "import matplotlib.pyplot as plt\n",
    "# [elem for elem in res if elem is not np.NAN]\n",
    "bo = [not elem for elem in pd.isna(res)]\n",
    "np.array(res)[bo].mean()"
   ]
  },
  {
   "cell_type": "code",
   "execution_count": 1,
   "id": "806e07d3",
   "metadata": {},
   "outputs": [
    {
     "ename": "NameError",
     "evalue": "name 'np' is not defined",
     "output_type": "error",
     "traceback": [
      "\u001b[0;31m---------------------------------------------------------------------------\u001b[0m",
      "\u001b[0;31mNameError\u001b[0m                                 Traceback (most recent call last)",
      "Input \u001b[0;32mIn [1]\u001b[0m, in \u001b[0;36m<cell line: 1>\u001b[0;34m()\u001b[0m\n\u001b[0;32m----> 1\u001b[0m \u001b[43mnp\u001b[49m\u001b[38;5;241m.\u001b[39mnanmean([elem[\u001b[38;5;241m1\u001b[39m] \u001b[38;5;28;01mfor\u001b[39;00m elem \u001b[38;5;129;01min\u001b[39;00m res])\n",
      "\u001b[0;31mNameError\u001b[0m: name 'np' is not defined"
     ]
    }
   ],
   "source": [
    "np.nanmean([elem[1] for elem in res])"
   ]
  }
 ],
 "metadata": {
  "kernelspec": {
   "display_name": "Python 3 (ipykernel)",
   "language": "python",
   "name": "python3"
  },
  "language_info": {
   "codemirror_mode": {
    "name": "ipython",
    "version": 3
   },
   "file_extension": ".py",
   "mimetype": "text/x-python",
   "name": "python",
   "nbconvert_exporter": "python",
   "pygments_lexer": "ipython3",
   "version": "3.9.12"
  }
 },
 "nbformat": 4,
 "nbformat_minor": 5
}
