{
 "cells": [
  {
   "cell_type": "code",
   "execution_count": 1,
   "id": "9a3507a5",
   "metadata": {},
   "outputs": [],
   "source": [
    "import pandas as pd\n",
    "import numpy as np\n",
    "import json\n",
    "import datetime"
   ]
  },
  {
   "cell_type": "code",
   "execution_count": 2,
   "id": "ccea06d0",
   "metadata": {},
   "outputs": [],
   "source": [
    "businesses = []\n",
    "for line in open('../../../data/yelp_dataset_2022/business.json', 'r'):\n",
    "    businesses.append(json.loads(line))"
   ]
  },
  {
   "cell_type": "code",
   "execution_count": 3,
   "id": "185d4dcd",
   "metadata": {},
   "outputs": [],
   "source": [
    "# Get businesses to DF and remove those without categories, can't tell what type of business\n",
    "business_df = pd.DataFrame(businesses)\n",
    "\n",
    "business_df = business_df[~business_df['categories'].isna()]\n",
    "\n",
    "# Spit categories from a string into a list\n",
    "business_df['categories'] = business_df['categories'].apply(lambda x: [cat.strip() for cat in x.split(\",\")])"
   ]
  },
  {
   "cell_type": "code",
   "execution_count": 4,
   "id": "266ffaeb",
   "metadata": {},
   "outputs": [],
   "source": [
    "# Filter the categories column to the list of categories\n",
    "def category_filter(df, categories):\n",
    "    return df[df['categories'].map(set(categories).issubset)]"
   ]
  },
  {
   "cell_type": "code",
   "execution_count": 5,
   "id": "988311a4",
   "metadata": {},
   "outputs": [],
   "source": [
    "# Get min and max by group\n",
    "def review_group_stats(df, col):\n",
    "    review_stats = df.groupby(col).agg(\n",
    "                        Min=('stars',np.min),\n",
    "                        Max=('stars',np.max),\n",
    "                        Mean=('stars',np.mean))\n",
    "    return review_stats"
   ]
  },
  {
   "cell_type": "code",
   "execution_count": 6,
   "id": "882460b0",
   "metadata": {},
   "outputs": [],
   "source": [
    "# Normalize the star ratings to be ratio of average in group\n",
    "def normalize_stars(df, col):\n",
    "    stats_df = review_group_stats(df, col)\n",
    "    merged_df = df.join(stats_df, on=col)\n",
    "    #merged_df['norm_stars'] = np.where(merged_df['Min'] == merged_df['Max'],\n",
    "    #                                   0.5,\n",
    "    #                                   (merged_df['stars'] - merged_df['Min'])/(merged_df['Max'] - merged_df['Min']))\n",
    "    merged_df['norm_stars'] = merged_df['stars'] / merged_df['Mean']\n",
    "    return merged_df"
   ]
  },
  {
   "cell_type": "code",
   "execution_count": 7,
   "id": "1c92eabf",
   "metadata": {},
   "outputs": [],
   "source": [
    "# Filter to Chinese Restaurants\n",
    "chinese_rest_df = category_filter(business_df, ['Chinese','Restaurants'])\n",
    "\n",
    "# Normalize the stars by state\n",
    "norm_stars = normalize_stars(chinese_rest_df, 'state')"
   ]
  },
  {
   "cell_type": "code",
   "execution_count": 10,
   "id": "bdccad86",
   "metadata": {},
   "outputs": [
    {
     "data": {
      "text/plain": [
       "<AxesSubplot:>"
      ]
     },
     "execution_count": 10,
     "metadata": {},
     "output_type": "execute_result"
    },
    {
     "data": {
      "image/png": "[encoded data removed]",
      "text/plain": [
       "<Figure size 432x288 with 1 Axes>"
      ]
     },
     "metadata": {
      "needs_background": "light"
     },
     "output_type": "display_data"
    }
   ],
   "source": [
    "norm_stars['norm_stars'].hist()"
   ]
  },
  {
   "cell_type": "code",
   "execution_count": 11,
   "id": "2b4b0d60",
   "metadata": {
    "scrolled": true
   },
   "outputs": [
    {
     "data": {
      "text/html": [
       "<div>\n",
       "<style scoped>\n",
       "    .dataframe tbody tr th:only-of-type {\n",
       "        vertical-align: middle;\n",
       "    }\n",
       "\n",
       "    .dataframe tbody tr th {\n",
       "        vertical-align: top;\n",
       "    }\n",
       "\n",
       "    .dataframe thead th {\n",
       "        text-align: right;\n",
       "    }\n",
       "</style>\n",
       "<table border=\"1\" class=\"dataframe\">\n",
       "  <thead>\n",
       "    <tr style=\"text-align: right;\">\n",
       "      <th></th>\n",
       "      <th>business_id</th>\n",
       "      <th>name</th>\n",
       "      <th>address</th>\n",
       "      <th>city</th>\n",
       "      <th>state</th>\n",
       "      <th>postal_code</th>\n",
       "      <th>latitude</th>\n",
       "      <th>longitude</th>\n",
       "      <th>stars</th>\n",
       "      <th>review_count</th>\n",
       "      <th>is_open</th>\n",
       "      <th>attributes</th>\n",
       "      <th>categories</th>\n",
       "      <th>hours</th>\n",
       "      <th>Min</th>\n",
       "      <th>Max</th>\n",
       "      <th>Mean</th>\n",
       "      <th>norm_stars</th>\n",
       "    </tr>\n",
       "  </thead>\n",
       "  <tbody>\n",
       "    <tr>\n",
       "      <th>45</th>\n",
       "      <td>wghnIlMb_i5U46HMBGx9ig</td>\n",
       "      <td>China Dragon Restaurant</td>\n",
       "      <td>1625 W Valencia Rd, Ste 101-103</td>\n",
       "      <td>Tucson</td>\n",
       "      <td>AZ</td>\n",
       "      <td>85746</td>\n",
       "      <td>32.132305</td>\n",
       "      <td>-110.999985</td>\n",
       "      <td>3.0</td>\n",
       "      <td>23</td>\n",
       "      <td>0</td>\n",
       "      <td>{'WiFi': ''no'', 'BusinessParking': '{'garage'...</td>\n",
       "      <td>[Restaurants, Chinese]</td>\n",
       "      <td>{'Monday': '11:0-21:0', 'Tuesday': '11:0-21:0'...</td>\n",
       "      <td>1.5</td>\n",
       "      <td>4.5</td>\n",
       "      <td>3.325000</td>\n",
       "      <td>0.902256</td>\n",
       "    </tr>\n",
       "    <tr>\n",
       "      <th>130</th>\n",
       "      <td>3BJxm-HnvzdwD1zjmSbmyQ</td>\n",
       "      <td>Golden Chopstick Chinese Restaurant</td>\n",
       "      <td>1800 Spring Garden St</td>\n",
       "      <td>Philadelphia</td>\n",
       "      <td>PA</td>\n",
       "      <td>19130</td>\n",
       "      <td>39.963078</td>\n",
       "      <td>-75.168027</td>\n",
       "      <td>3.0</td>\n",
       "      <td>137</td>\n",
       "      <td>1</td>\n",
       "      <td>{'GoodForKids': 'True', 'RestaurantsDelivery':...</td>\n",
       "      <td>[Restaurants, Chinese]</td>\n",
       "      <td>{'Monday': '0:0-0:0', 'Tuesday': '11:0-22:30',...</td>\n",
       "      <td>1.5</td>\n",
       "      <td>5.0</td>\n",
       "      <td>3.416667</td>\n",
       "      <td>0.878049</td>\n",
       "    </tr>\n",
       "    <tr>\n",
       "      <th>200</th>\n",
       "      <td>vPcfJ3rm3NpdqVDod2WxLA</td>\n",
       "      <td>China Pearl</td>\n",
       "      <td>2E Summit Sq Shopping Ctr</td>\n",
       "      <td>Langhorne</td>\n",
       "      <td>PA</td>\n",
       "      <td>19047</td>\n",
       "      <td>40.217784</td>\n",
       "      <td>-74.926586</td>\n",
       "      <td>1.5</td>\n",
       "      <td>27</td>\n",
       "      <td>1</td>\n",
       "      <td>{'OutdoorSeating': 'False', 'RestaurantsDelive...</td>\n",
       "      <td>[Japanese, Chinese, Restaurants, Thai]</td>\n",
       "      <td>{'Monday': '11:0-22:0', 'Tuesday': '11:0-22:0'...</td>\n",
       "      <td>1.5</td>\n",
       "      <td>5.0</td>\n",
       "      <td>3.416667</td>\n",
       "      <td>0.439024</td>\n",
       "    </tr>\n",
       "    <tr>\n",
       "      <th>249</th>\n",
       "      <td>bqmX882_6AxVA_uHEQ70sQ</td>\n",
       "      <td>Shanghai Station</td>\n",
       "      <td>4002 Spruce St</td>\n",
       "      <td>Philadelphia</td>\n",
       "      <td>PA</td>\n",
       "      <td>19104</td>\n",
       "      <td>39.951615</td>\n",
       "      <td>-75.203346</td>\n",
       "      <td>4.0</td>\n",
       "      <td>46</td>\n",
       "      <td>0</td>\n",
       "      <td>{'Caters': 'False', 'BikeParking': 'False', 'R...</td>\n",
       "      <td>[Shanghainese, Restaurants, Sushi Bars, Szechu...</td>\n",
       "      <td>None</td>\n",
       "      <td>1.5</td>\n",
       "      <td>5.0</td>\n",
       "      <td>3.416667</td>\n",
       "      <td>1.170732</td>\n",
       "    </tr>\n",
       "    <tr>\n",
       "      <th>271</th>\n",
       "      <td>jcL_qaGJiappzpnn-ifSoA</td>\n",
       "      <td>Fat Jakks</td>\n",
       "      <td>10126 - 107 Avenue NW</td>\n",
       "      <td>Edmonton</td>\n",
       "      <td>AB</td>\n",
       "      <td>T5H 0V6</td>\n",
       "      <td>53.551551</td>\n",
       "      <td>-113.495155</td>\n",
       "      <td>4.0</td>\n",
       "      <td>8</td>\n",
       "      <td>0</td>\n",
       "      <td>{'RestaurantsDelivery': 'True', 'RestaurantsPr...</td>\n",
       "      <td>[Chinese, Restaurants, Filipino]</td>\n",
       "      <td>None</td>\n",
       "      <td>1.5</td>\n",
       "      <td>5.0</td>\n",
       "      <td>3.440594</td>\n",
       "      <td>1.162590</td>\n",
       "    </tr>\n",
       "  </tbody>\n",
       "</table>\n",
       "</div>"
      ],
      "text/plain": [
       "                business_id                                 name  \\\n",
       "45   wghnIlMb_i5U46HMBGx9ig              China Dragon Restaurant   \n",
       "130  3BJxm-HnvzdwD1zjmSbmyQ  Golden Chopstick Chinese Restaurant   \n",
       "200  vPcfJ3rm3NpdqVDod2WxLA                          China Pearl   \n",
       "249  bqmX882_6AxVA_uHEQ70sQ                     Shanghai Station   \n",
       "271  jcL_qaGJiappzpnn-ifSoA                            Fat Jakks   \n",
       "\n",
       "                             address          city state postal_code  \\\n",
       "45   1625 W Valencia Rd, Ste 101-103        Tucson    AZ       85746   \n",
       "130            1800 Spring Garden St  Philadelphia    PA       19130   \n",
       "200        2E Summit Sq Shopping Ctr     Langhorne    PA       19047   \n",
       "249                   4002 Spruce St  Philadelphia    PA       19104   \n",
       "271            10126 - 107 Avenue NW      Edmonton    AB     T5H 0V6   \n",
       "\n",
       "      latitude   longitude  stars  review_count  is_open  \\\n",
       "45   32.132305 -110.999985    3.0            23        0   \n",
       "130  39.963078  -75.168027    3.0           137        1   \n",
       "200  40.217784  -74.926586    1.5            27        1   \n",
       "249  39.951615  -75.203346    4.0            46        0   \n",
       "271  53.551551 -113.495155    4.0             8        0   \n",
       "\n",
       "                                            attributes  \\\n",
       "45   {'WiFi': ''no'', 'BusinessParking': '{'garage'...   \n",
       "130  {'GoodForKids': 'True', 'RestaurantsDelivery':...   \n",
       "200  {'OutdoorSeating': 'False', 'RestaurantsDelive...   \n",
       "249  {'Caters': 'False', 'BikeParking': 'False', 'R...   \n",
       "271  {'RestaurantsDelivery': 'True', 'RestaurantsPr...   \n",
       "\n",
       "                                            categories  \\\n",
       "45                              [Restaurants, Chinese]   \n",
       "130                             [Restaurants, Chinese]   \n",
       "200             [Japanese, Chinese, Restaurants, Thai]   \n",
       "249  [Shanghainese, Restaurants, Sushi Bars, Szechu...   \n",
       "271                   [Chinese, Restaurants, Filipino]   \n",
       "\n",
       "                                                 hours  Min  Max      Mean  \\\n",
       "45   {'Monday': '11:0-21:0', 'Tuesday': '11:0-21:0'...  1.5  4.5  3.325000   \n",
       "130  {'Monday': '0:0-0:0', 'Tuesday': '11:0-22:30',...  1.5  5.0  3.416667   \n",
       "200  {'Monday': '11:0-22:0', 'Tuesday': '11:0-22:0'...  1.5  5.0  3.416667   \n",
       "249                                               None  1.5  5.0  3.416667   \n",
       "271                                               None  1.5  5.0  3.440594   \n",
       "\n",
       "     norm_stars  \n",
       "45     0.902256  \n",
       "130    0.878049  \n",
       "200    0.439024  \n",
       "249    1.170732  \n",
       "271    1.162590  "
      ]
     },
     "execution_count": 11,
     "metadata": {},
     "output_type": "execute_result"
    }
   ],
   "source": [
    "norm_stars.head()"
   ]
  },
  {
   "cell_type": "code",
   "execution_count": 12,
   "id": "22aca84c",
   "metadata": {},
   "outputs": [],
   "source": [
    "# Helper function for pandas apply, check if the restaurant has an attribute\n",
    "def has_attribute(attr_dict,attr):\n",
    "    if attr_dict is None:\n",
    "        return False\n",
    "    else:\n",
    "        return attr_dict.get(attr,False) == 'True'"
   ]
  },
  {
   "cell_type": "code",
   "execution_count": 13,
   "id": "1bee8ad7",
   "metadata": {},
   "outputs": [],
   "source": [
    "# Create boolean column for if the restaurants have attribute\n",
    "def get_attribute(df, attribute):\n",
    "    df[attribute] = df['attributes'].apply(has_attribute, attr=attribute)\n",
    "    return df"
   ]
  },
  {
   "cell_type": "code",
   "execution_count": 14,
   "id": "c91d98f6",
   "metadata": {
    "scrolled": true
   },
   "outputs": [],
   "source": [
    "norm_stars = get_attribute(norm_stars, 'RestaurantsDelivery')\n",
    "norm_stars = get_attribute(norm_stars, 'RestaurantsTakeOut')"
   ]
  },
  {
   "cell_type": "code",
   "execution_count": 15,
   "id": "6056ba51",
   "metadata": {},
   "outputs": [],
   "source": [
    "reviews = []\n",
    "for line in open('../../../data/yelp_dataset_2022/review.json', 'r'):\n",
    "    reviews.append(json.loads(line))\n",
    "\n",
    "reviews_df = pd.DataFrame(reviews)"
   ]
  },
  {
   "cell_type": "code",
   "execution_count": 17,
   "id": "16a150c1",
   "metadata": {},
   "outputs": [
    {
     "data": {
      "text/html": [
       "<div>\n",
       "<style scoped>\n",
       "    .dataframe tbody tr th:only-of-type {\n",
       "        vertical-align: middle;\n",
       "    }\n",
       "\n",
       "    .dataframe tbody tr th {\n",
       "        vertical-align: top;\n",
       "    }\n",
       "\n",
       "    .dataframe thead th {\n",
       "        text-align: right;\n",
       "    }\n",
       "</style>\n",
       "<table border=\"1\" class=\"dataframe\">\n",
       "  <thead>\n",
       "    <tr style=\"text-align: right;\">\n",
       "      <th></th>\n",
       "      <th>review_id</th>\n",
       "      <th>user_id</th>\n",
       "      <th>business_id</th>\n",
       "      <th>stars</th>\n",
       "      <th>useful</th>\n",
       "      <th>funny</th>\n",
       "      <th>cool</th>\n",
       "      <th>text</th>\n",
       "      <th>date</th>\n",
       "    </tr>\n",
       "  </thead>\n",
       "  <tbody>\n",
       "    <tr>\n",
       "      <th>0</th>\n",
       "      <td>KU_O5udG6zpxOg-VcAEodg</td>\n",
       "      <td>mh_-eMZ6K5RLWhZyISBhwA</td>\n",
       "      <td>XQfwVwDr-v0ZS3_CbbE5Xw</td>\n",
       "      <td>3.0</td>\n",
       "      <td>0</td>\n",
       "      <td>0</td>\n",
       "      <td>0</td>\n",
       "      <td>If you decide to eat here, just be aware it is...</td>\n",
       "      <td>2018-07-07 22:09:11</td>\n",
       "    </tr>\n",
       "    <tr>\n",
       "      <th>1</th>\n",
       "      <td>BiTunyQ73aT9WBnpR9DZGw</td>\n",
       "      <td>OyoGAe7OKpv6SyGZT5g77Q</td>\n",
       "      <td>7ATYjTIgM3jUlt4UM3IypQ</td>\n",
       "      <td>5.0</td>\n",
       "      <td>1</td>\n",
       "      <td>0</td>\n",
       "      <td>1</td>\n",
       "      <td>I've taken a lot of spin classes over the year...</td>\n",
       "      <td>2012-01-03 15:28:18</td>\n",
       "    </tr>\n",
       "    <tr>\n",
       "      <th>2</th>\n",
       "      <td>saUsX_uimxRlCVr67Z4Jig</td>\n",
       "      <td>8g_iMtfSiwikVnbP2etR0A</td>\n",
       "      <td>YjUWPpI6HXG530lwP-fb2A</td>\n",
       "      <td>3.0</td>\n",
       "      <td>0</td>\n",
       "      <td>0</td>\n",
       "      <td>0</td>\n",
       "      <td>Family diner. Had the buffet. Eclectic assortm...</td>\n",
       "      <td>2014-02-05 20:30:30</td>\n",
       "    </tr>\n",
       "    <tr>\n",
       "      <th>3</th>\n",
       "      <td>AqPFMleE6RsU23_auESxiA</td>\n",
       "      <td>_7bHUi9Uuf5__HHc_Q8guQ</td>\n",
       "      <td>kxX2SOes4o-D3ZQBkiMRfA</td>\n",
       "      <td>5.0</td>\n",
       "      <td>1</td>\n",
       "      <td>0</td>\n",
       "      <td>1</td>\n",
       "      <td>Wow!  Yummy, different,  delicious.   Our favo...</td>\n",
       "      <td>2015-01-04 00:01:03</td>\n",
       "    </tr>\n",
       "    <tr>\n",
       "      <th>4</th>\n",
       "      <td>Sx8TMOWLNuJBWer-0pcmoA</td>\n",
       "      <td>bcjbaE6dDog4jkNY91ncLQ</td>\n",
       "      <td>e4Vwtrqf-wpJfwesgvdgxQ</td>\n",
       "      <td>4.0</td>\n",
       "      <td>1</td>\n",
       "      <td>0</td>\n",
       "      <td>1</td>\n",
       "      <td>Cute interior and owner (?) gave us tour of up...</td>\n",
       "      <td>2017-01-14 20:54:15</td>\n",
       "    </tr>\n",
       "  </tbody>\n",
       "</table>\n",
       "</div>"
      ],
      "text/plain": [
       "                review_id                 user_id             business_id  \\\n",
       "0  KU_O5udG6zpxOg-VcAEodg  mh_-eMZ6K5RLWhZyISBhwA  XQfwVwDr-v0ZS3_CbbE5Xw   \n",
       "1  BiTunyQ73aT9WBnpR9DZGw  OyoGAe7OKpv6SyGZT5g77Q  7ATYjTIgM3jUlt4UM3IypQ   \n",
       "2  saUsX_uimxRlCVr67Z4Jig  8g_iMtfSiwikVnbP2etR0A  YjUWPpI6HXG530lwP-fb2A   \n",
       "3  AqPFMleE6RsU23_auESxiA  _7bHUi9Uuf5__HHc_Q8guQ  kxX2SOes4o-D3ZQBkiMRfA   \n",
       "4  Sx8TMOWLNuJBWer-0pcmoA  bcjbaE6dDog4jkNY91ncLQ  e4Vwtrqf-wpJfwesgvdgxQ   \n",
       "\n",
       "   stars  useful  funny  cool  \\\n",
       "0    3.0       0      0     0   \n",
       "1    5.0       1      0     1   \n",
       "2    3.0       0      0     0   \n",
       "3    5.0       1      0     1   \n",
       "4    4.0       1      0     1   \n",
       "\n",
       "                                                text                 date  \n",
       "0  If you decide to eat here, just be aware it is...  2018-07-07 22:09:11  \n",
       "1  I've taken a lot of spin classes over the year...  2012-01-03 15:28:18  \n",
       "2  Family diner. Had the buffet. Eclectic assortm...  2014-02-05 20:30:30  \n",
       "3  Wow!  Yummy, different,  delicious.   Our favo...  2015-01-04 00:01:03  \n",
       "4  Cute interior and owner (?) gave us tour of up...  2017-01-14 20:54:15  "
      ]
     },
     "execution_count": 17,
     "metadata": {},
     "output_type": "execute_result"
    }
   ],
   "source": [
    "reviews_df.head()"
   ]
  },
  {
   "cell_type": "code",
   "execution_count": 18,
   "id": "86b2b627",
   "metadata": {},
   "outputs": [],
   "source": [
    "# Filter to only Chinese Restaurants\n",
    "chinese_rest_reviews = reviews_df[reviews_df['business_id'].isin(norm_stars['business_id'].values)]\n",
    "\n",
    "# Join the business attributes to each of the reviews\n",
    "chinese_rest_reviews = chinese_rest_reviews.merge(norm_stars[['business_id','norm_stars','RestaurantsDelivery','RestaurantsTakeOut','Mean']], on='business_id')\n",
    "\n",
    "chinese_rest_reviews['review_norm_stars'] = chinese_rest_reviews['stars'] / chinese_rest_reviews['Mean']"
   ]
  },
  {
   "cell_type": "code",
   "execution_count": 19,
   "id": "45accd1f",
   "metadata": {},
   "outputs": [],
   "source": [
    "# Create column to group by year and month\n",
    "chinese_rest_reviews['year'] = pd.DatetimeIndex(chinese_rest_reviews['date']).year\n",
    "chinese_rest_reviews['month'] = pd.DatetimeIndex(chinese_rest_reviews['date']).month\n",
    "\n",
    "chinese_rest_reviews['year_month'] = chinese_rest_reviews.year*10000 + chinese_rest_reviews.month*100 + 1\n",
    "\n",
    "chinese_rest_reviews['year_month'] = pd.to_datetime(chinese_rest_reviews['year_month'], format='%Y%m%d')\n",
    "\n",
    "# Find average rating for each category by year-month\n",
    "mean_delivery = chinese_rest_reviews.groupby(['year_month','RestaurantsDelivery']).mean().reset_index()\n",
    "mean_takeout = chinese_rest_reviews.groupby(['year_month','RestaurantsTakeOut']).mean().reset_index()"
   ]
  },
  {
   "cell_type": "code",
   "execution_count": 20,
   "id": "c76918ff",
   "metadata": {},
   "outputs": [],
   "source": [
    "import matplotlib.pyplot as plt"
   ]
  },
  {
   "cell_type": "code",
   "execution_count": 22,
   "id": "ebf0c3de",
   "metadata": {},
   "outputs": [],
   "source": [
    "mean_delivery_post_2019 = mean_delivery[(mean_delivery['year'] >= 2019) & mean_delivery['RestaurantsDelivery']]\n",
    "mean_nodelivery_post_2019 = mean_delivery[(mean_delivery['year'] >= 2019) & (mean_delivery['RestaurantsDelivery']==False)]\n",
    "\n",
    "mean_takeout_post_2019 = mean_takeout[(mean_takeout['year'] >= 2019) & mean_takeout['RestaurantsTakeOut']]\n",
    "mean_notakeout_post_2019 = mean_takeout[(mean_takeout['year'] >= 2019) & (mean_takeout['RestaurantsTakeOut']==False)]"
   ]
  },
  {
   "cell_type": "code",
   "execution_count": 23,
   "id": "882862c7",
   "metadata": {
    "scrolled": true
   },
   "outputs": [
    {
     "data": {
      "text/plain": [
       "<matplotlib.legend.Legend at 0x15997b880>"
      ]
     },
     "execution_count": 23,
     "metadata": {},
     "output_type": "execute_result"
    },
    {
     "data": {
      "image/png": "[encoded data removed]",
      "text/plain": [
       "<Figure size 432x288 with 1 Axes>"
      ]
     },
     "metadata": {
      "needs_background": "light"
     },
     "output_type": "display_data"
    }
   ],
   "source": [
    "plt.plot(mean_delivery_post_2019['year_month'],mean_delivery_post_2019['review_norm_stars'], label=\"delivery\")\n",
    "plt.plot(mean_nodelivery_post_2019['year_month'],mean_nodelivery_post_2019['review_norm_stars'], label='nodedelivery')\n",
    "plt.ylabel(\"Normalized Stars\")\n",
    "plt.xticks(rotation = 45)\n",
    "plt.title(\"Chinese Restaurant Normalized Ratings\")\n",
    "plt.legend()"
   ]
  },
  {
   "cell_type": "code",
   "execution_count": null,
   "id": "538cb883",
   "metadata": {},
   "outputs": [],
   "source": [
    "plt.plot(mean_takeout_post_2019['year_month'],mean_takeout_post_2019['norm_stars'], label=\"TakeOut\")\n",
    "plt.plot(mean_notakeout_post_2019['year_month'],mean_notakeout_post_2019['norm_stars'], label=\"No TakeOut\")\n",
    "plt.legend()\n",
    "_ = plt.ylabel(\"Normalized Stars\")\n",
    "_ = plt.title(\"Chinese Restaurant Normalized Ratings\")\n",
    "_ = plt.xticks(rotation = 45)"
   ]
  },
  {
   "cell_type": "code",
   "execution_count": null,
   "id": "a819c469",
   "metadata": {},
   "outputs": [],
   "source": [
    "chinese_rest_reviews.to_csv(\"../../../data/chinese_restaurants_reviews.csv\",index=False)"
   ]
  },
  {
   "cell_type": "code",
   "execution_count": null,
   "id": "1cd51e54",
   "metadata": {},
   "outputs": [],
   "source": []
  }
 ],
 "metadata": {
  "kernelspec": {
   "display_name": "Python 3 (ipykernel)",
   "language": "python",
   "name": "python3"
  },
  "language_info": {
   "codemirror_mode": {
    "name": "ipython",
    "version": 3
   },
   "file_extension": ".py",
   "mimetype": "text/x-python",
   "name": "python",
   "nbconvert_exporter": "python",
   "pygments_lexer": "ipython3",
   "version": "3.10.0"
  }
 },
 "nbformat": 4,
 "nbformat_minor": 5
}
