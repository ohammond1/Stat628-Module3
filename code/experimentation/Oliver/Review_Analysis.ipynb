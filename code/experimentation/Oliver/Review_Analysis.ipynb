{
 "cells": [
  {
   "cell_type": "code",
   "execution_count": 11,
   "id": "c65e4255",
   "metadata": {},
   "outputs": [],
   "source": [
    "import pandas as pd\n",
    "import numpy as np\n",
    "import matplotlib.pyplot as plt"
   ]
  },
  {
   "cell_type": "code",
   "execution_count": 8,
   "id": "c0191095",
   "metadata": {},
   "outputs": [],
   "source": [
    "chinese_reviews = pd.read_csv(\"../../../data/chinese_restaurants_reviews.csv\")"
   ]
  },
  {
   "cell_type": "code",
   "execution_count": 9,
   "id": "031106a7",
   "metadata": {},
   "outputs": [
    {
     "data": {
      "text/html": [
       "<div>\n",
       "<style scoped>\n",
       "    .dataframe tbody tr th:only-of-type {\n",
       "        vertical-align: middle;\n",
       "    }\n",
       "\n",
       "    .dataframe tbody tr th {\n",
       "        vertical-align: top;\n",
       "    }\n",
       "\n",
       "    .dataframe thead th {\n",
       "        text-align: right;\n",
       "    }\n",
       "</style>\n",
       "<table border=\"1\" class=\"dataframe\">\n",
       "  <thead>\n",
       "    <tr style=\"text-align: right;\">\n",
       "      <th></th>\n",
       "      <th>review_id</th>\n",
       "      <th>user_id</th>\n",
       "      <th>business_id</th>\n",
       "      <th>stars</th>\n",
       "      <th>useful</th>\n",
       "      <th>funny</th>\n",
       "      <th>cool</th>\n",
       "      <th>text</th>\n",
       "      <th>date</th>\n",
       "      <th>norm_stars</th>\n",
       "      <th>RestaurantsDelivery</th>\n",
       "      <th>RestaurantsTakeOut</th>\n",
       "      <th>Mean</th>\n",
       "      <th>review_norm_stars</th>\n",
       "      <th>year</th>\n",
       "      <th>month</th>\n",
       "      <th>year_month</th>\n",
       "    </tr>\n",
       "  </thead>\n",
       "  <tbody>\n",
       "    <tr>\n",
       "      <th>0</th>\n",
       "      <td>L0E_Ld__jIATsQ1vA7ZGZw</td>\n",
       "      <td>Cvi8nZTwDVaQkqmmgQwQMw</td>\n",
       "      <td>D4DZztR7vkbiED6txGUYFg</td>\n",
       "      <td>4.0</td>\n",
       "      <td>0</td>\n",
       "      <td>0</td>\n",
       "      <td>1</td>\n",
       "      <td>Looks like there is a second Red Kings restaur...</td>\n",
       "      <td>2013-06-24 13:15:21</td>\n",
       "      <td>1.02439</td>\n",
       "      <td>False</td>\n",
       "      <td>True</td>\n",
       "      <td>3.416667</td>\n",
       "      <td>1.170732</td>\n",
       "      <td>2013</td>\n",
       "      <td>6</td>\n",
       "      <td>2013-06-01</td>\n",
       "    </tr>\n",
       "    <tr>\n",
       "      <th>1</th>\n",
       "      <td>OxkAlukpCP6eVb5Q-nRC5w</td>\n",
       "      <td>DHMyfAYPrxmU5ve5BrteeA</td>\n",
       "      <td>D4DZztR7vkbiED6txGUYFg</td>\n",
       "      <td>1.0</td>\n",
       "      <td>1</td>\n",
       "      <td>0</td>\n",
       "      <td>0</td>\n",
       "      <td>I was here before once. Didn't have much of an...</td>\n",
       "      <td>2016-08-26 03:58:38</td>\n",
       "      <td>1.02439</td>\n",
       "      <td>False</td>\n",
       "      <td>True</td>\n",
       "      <td>3.416667</td>\n",
       "      <td>0.292683</td>\n",
       "      <td>2016</td>\n",
       "      <td>8</td>\n",
       "      <td>2016-08-01</td>\n",
       "    </tr>\n",
       "    <tr>\n",
       "      <th>2</th>\n",
       "      <td>YL7A5MHc1sUfulKQoZWH4w</td>\n",
       "      <td>qxgk0St0YctOKFSriqnzFw</td>\n",
       "      <td>D4DZztR7vkbiED6txGUYFg</td>\n",
       "      <td>3.0</td>\n",
       "      <td>0</td>\n",
       "      <td>0</td>\n",
       "      <td>0</td>\n",
       "      <td>Great foods! Everything is so spicy and delici...</td>\n",
       "      <td>2015-12-22 08:43:21</td>\n",
       "      <td>1.02439</td>\n",
       "      <td>False</td>\n",
       "      <td>True</td>\n",
       "      <td>3.416667</td>\n",
       "      <td>0.878049</td>\n",
       "      <td>2015</td>\n",
       "      <td>12</td>\n",
       "      <td>2015-12-01</td>\n",
       "    </tr>\n",
       "    <tr>\n",
       "      <th>3</th>\n",
       "      <td>bWucYqbH0TGMHH_moPrViA</td>\n",
       "      <td>MVMrSQyqClFac8nUdFKTDA</td>\n",
       "      <td>D4DZztR7vkbiED6txGUYFg</td>\n",
       "      <td>1.0</td>\n",
       "      <td>0</td>\n",
       "      <td>0</td>\n",
       "      <td>0</td>\n",
       "      <td>the service is soooooooooooooooooooooooo slow ...</td>\n",
       "      <td>2015-03-07 21:00:35</td>\n",
       "      <td>1.02439</td>\n",
       "      <td>False</td>\n",
       "      <td>True</td>\n",
       "      <td>3.416667</td>\n",
       "      <td>0.292683</td>\n",
       "      <td>2015</td>\n",
       "      <td>3</td>\n",
       "      <td>2015-03-01</td>\n",
       "    </tr>\n",
       "    <tr>\n",
       "      <th>4</th>\n",
       "      <td>WnRmMOOhRs2dCFC4sUz46g</td>\n",
       "      <td>TcJvptOC56hZZGwWM9QSZA</td>\n",
       "      <td>D4DZztR7vkbiED6txGUYFg</td>\n",
       "      <td>5.0</td>\n",
       "      <td>0</td>\n",
       "      <td>0</td>\n",
       "      <td>0</td>\n",
       "      <td>Absolutely fabulous.  Great food great service...</td>\n",
       "      <td>2015-04-17 00:25:54</td>\n",
       "      <td>1.02439</td>\n",
       "      <td>False</td>\n",
       "      <td>True</td>\n",
       "      <td>3.416667</td>\n",
       "      <td>1.463415</td>\n",
       "      <td>2015</td>\n",
       "      <td>4</td>\n",
       "      <td>2015-04-01</td>\n",
       "    </tr>\n",
       "  </tbody>\n",
       "</table>\n",
       "</div>"
      ],
      "text/plain": [
       "                review_id                 user_id             business_id  \\\n",
       "0  L0E_Ld__jIATsQ1vA7ZGZw  Cvi8nZTwDVaQkqmmgQwQMw  D4DZztR7vkbiED6txGUYFg   \n",
       "1  OxkAlukpCP6eVb5Q-nRC5w  DHMyfAYPrxmU5ve5BrteeA  D4DZztR7vkbiED6txGUYFg   \n",
       "2  YL7A5MHc1sUfulKQoZWH4w  qxgk0St0YctOKFSriqnzFw  D4DZztR7vkbiED6txGUYFg   \n",
       "3  bWucYqbH0TGMHH_moPrViA  MVMrSQyqClFac8nUdFKTDA  D4DZztR7vkbiED6txGUYFg   \n",
       "4  WnRmMOOhRs2dCFC4sUz46g  TcJvptOC56hZZGwWM9QSZA  D4DZztR7vkbiED6txGUYFg   \n",
       "\n",
       "   stars  useful  funny  cool  \\\n",
       "0    4.0       0      0     1   \n",
       "1    1.0       1      0     0   \n",
       "2    3.0       0      0     0   \n",
       "3    1.0       0      0     0   \n",
       "4    5.0       0      0     0   \n",
       "\n",
       "                                                text                 date  \\\n",
       "0  Looks like there is a second Red Kings restaur...  2013-06-24 13:15:21   \n",
       "1  I was here before once. Didn't have much of an...  2016-08-26 03:58:38   \n",
       "2  Great foods! Everything is so spicy and delici...  2015-12-22 08:43:21   \n",
       "3  the service is soooooooooooooooooooooooo slow ...  2015-03-07 21:00:35   \n",
       "4  Absolutely fabulous.  Great food great service...  2015-04-17 00:25:54   \n",
       "\n",
       "   norm_stars  RestaurantsDelivery  RestaurantsTakeOut      Mean  \\\n",
       "0     1.02439                False                True  3.416667   \n",
       "1     1.02439                False                True  3.416667   \n",
       "2     1.02439                False                True  3.416667   \n",
       "3     1.02439                False                True  3.416667   \n",
       "4     1.02439                False                True  3.416667   \n",
       "\n",
       "   review_norm_stars  year  month  year_month  \n",
       "0           1.170732  2013      6  2013-06-01  \n",
       "1           0.292683  2016      8  2016-08-01  \n",
       "2           0.878049  2015     12  2015-12-01  \n",
       "3           0.292683  2015      3  2015-03-01  \n",
       "4           1.463415  2015      4  2015-04-01  "
      ]
     },
     "execution_count": 9,
     "metadata": {},
     "output_type": "execute_result"
    }
   ],
   "source": [
    "chinese_reviews.head()"
   ]
  },
  {
   "cell_type": "code",
   "execution_count": 27,
   "id": "3f19782a",
   "metadata": {},
   "outputs": [
    {
     "data": {
      "text/plain": [
       "<BarContainer object of 5 artists>"
      ]
     },
     "execution_count": 27,
     "metadata": {},
     "output_type": "execute_result"
    },
    {
     "data": {
      "image/png": "[encoded data removed]",
      "text/plain": [
       "<Figure size 432x288 with 1 Axes>"
      ]
     },
     "metadata": {
      "needs_background": "light"
     },
     "output_type": "display_data"
    }
   ],
   "source": [
    "service_stars = chinese_reviews[chinese_reviews['text'].str.contains('service', case=False)]['stars'].value_counts()\n",
    "plt.bar(service_stars.index.values, service_stars.values)"
   ]
  },
  {
   "cell_type": "code",
   "execution_count": 38,
   "id": "8848c7ab",
   "metadata": {},
   "outputs": [],
   "source": [
    "# Get the star rating distribution of the keyword\n",
    "def get_keyword_dist(df, keyword):\n",
    "    return df[df['text'].str.contains(keyword, case=False)]['stars'].value_counts()"
   ]
  },
  {
   "cell_type": "code",
   "execution_count": 39,
   "id": "01374369",
   "metadata": {},
   "outputs": [],
   "source": [
    "keywords = ['service']\n",
    "keyword_ratings = {}\n",
    "for word in keywords:\n",
    "    keyword_ratings[word] = get_keyword_dist(chinese_reviews, word)"
   ]
  },
  {
   "cell_type": "code",
   "execution_count": 40,
   "id": "2cb0b07c",
   "metadata": {},
   "outputs": [
    {
     "data": {
      "text/plain": [
       "5.0    22816\n",
       "4.0    15957\n",
       "1.0     8056\n",
       "3.0     7923\n",
       "2.0     5435\n",
       "Name: stars, dtype: int64"
      ]
     },
     "execution_count": 40,
     "metadata": {},
     "output_type": "execute_result"
    }
   ],
   "source": [
    "keyword_ratings['service']"
   ]
  },
  {
   "cell_type": "code",
   "execution_count": null,
   "id": "8ac3bff7",
   "metadata": {},
   "outputs": [],
   "source": []
  },
  {
   "cell_type": "code",
   "execution_count": null,
   "id": "2c05e339",
   "metadata": {},
   "outputs": [],
   "source": [
    "def get_average_sentiment(df, keyword):\n",
    "    "
   ]
  }
 ],
 "metadata": {
  "kernelspec": {
   "display_name": "Python 3 (ipykernel)",
   "language": "python",
   "name": "python3"
  },
  "language_info": {
   "codemirror_mode": {
    "name": "ipython",
    "version": 3
   },
   "file_extension": ".py",
   "mimetype": "text/x-python",
   "name": "python",
   "nbconvert_exporter": "python",
   "pygments_lexer": "ipython3",
   "version": "3.10.0"
  }
 },
 "nbformat": 4,
 "nbformat_minor": 5
}
