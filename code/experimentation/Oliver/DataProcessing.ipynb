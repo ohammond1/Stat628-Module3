{
 "cells": [
  {
   "cell_type": "code",
   "execution_count": 66,
   "id": "60d2cf4f",
   "metadata": {},
   "outputs": [],
   "source": [
    "import pandas as pd\n",
    "import numpy as np\n",
    "import json"
   ]
  },
  {
   "cell_type": "code",
   "execution_count": 67,
   "id": "442cfd40",
   "metadata": {},
   "outputs": [],
   "source": [
    "businesses = []\n",
    "for line in open('../../../data/yelp_dataset_2022/business.json', 'r'):\n",
    "    businesses.append(json.loads(line))"
   ]
  },
  {
   "cell_type": "code",
   "execution_count": 68,
   "id": "200cc7f1",
   "metadata": {},
   "outputs": [],
   "source": [
    "business_df = pd.DataFrame(businesses)\n",
    "\n",
    "business_df = business_df[~business_df['categories'].isna()]\n",
    "\n",
    "business_df['categories'] = business_df['categories'].apply(lambda x: [cat.strip() for cat in x.split(\",\")])"
   ]
  },
  {
   "cell_type": "code",
   "execution_count": 69,
   "id": "4f25cfbd",
   "metadata": {},
   "outputs": [],
   "source": [
    "# Filter the categories column to the list of categories\n",
    "def category_filter(df, categories):\n",
    "    return df[df['categories'].map(set(categories).issubset)]"
   ]
  },
  {
   "cell_type": "code",
   "execution_count": 70,
   "id": "5a708d99",
   "metadata": {},
   "outputs": [],
   "source": [
    "# Get min and max by group\n",
    "def review_group_stats(df, col):\n",
    "    review_stats = df.groupby(col).agg(\n",
    "                        Min=('stars',np.min),\n",
    "                        Max=('stars',np.max))\n",
    "    return review_stats"
   ]
  },
  {
   "cell_type": "code",
   "execution_count": 81,
   "id": "6df89759",
   "metadata": {},
   "outputs": [],
   "source": [
    "# Normalize the star ratings to be between 0 and 1\n",
    "def normalize_stars(df, col):\n",
    "    stats_df = review_group_stats(df, col)\n",
    "    merged_df = df.join(stats_df, on=col)\n",
    "    merged_df['norm_stars'] = np.where(merged_df['Min'] == merged_df['Max'],\n",
    "                                       0.5,\n",
    "                                       (merged_df['stars'] - merged_df['Min'])/(merged_df['Max'] - merged_df['Min']))\n",
    "    return merged_df"
   ]
  },
  {
   "cell_type": "code",
   "execution_count": 90,
   "id": "766b5c17",
   "metadata": {},
   "outputs": [],
   "source": [
    "chinese_rest_df = category_filter(business_df, ['Chinese','Restaurants'])\n",
    "norm_stars = normalize_stars(chinese_rest_df, 'state')"
   ]
  },
  {
   "cell_type": "code",
   "execution_count": 91,
   "id": "e4b61a1d",
   "metadata": {},
   "outputs": [
    {
     "data": {
      "text/plain": [
       "<AxesSubplot:>"
      ]
     },
     "execution_count": 91,
     "metadata": {},
     "output_type": "execute_result"
    },
    {
     "data": {
      "image/png": "[encoded data removed]",
      "text/plain": [
       "<Figure size 432x288 with 1 Axes>"
      ]
     },
     "metadata": {
      "needs_background": "light"
     },
     "output_type": "display_data"
    }
   ],
   "source": [
    "norm_stars['norm_stars'].hist()"
   ]
  },
  {
   "cell_type": "code",
   "execution_count": null,
   "id": "46b83ae1",
   "metadata": {},
   "outputs": [],
   "source": []
  }
 ],
 "metadata": {
  "kernelspec": {
   "display_name": "Python 3 (ipykernel)",
   "language": "python",
   "name": "python3"
  },
  "language_info": {
   "codemirror_mode": {
    "name": "ipython",
    "version": 3
   },
   "file_extension": ".py",
   "mimetype": "text/x-python",
   "name": "python",
   "nbconvert_exporter": "python",
   "pygments_lexer": "ipython3",
   "version": "3.10.0"
  }
 },
 "nbformat": 4,
 "nbformat_minor": 5
}
